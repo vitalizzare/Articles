{
 "cells": [
  {
   "cell_type": "markdown",
   "metadata": {},
   "source": [
    "#  The ant on the square lattice"
   ]
  },
  {
   "cell_type": "markdown",
   "metadata": {},
   "source": [
    "Suppose, there's an ant on the square lattice. It can move in four directions:\n",
    "up, right, down, left. But only if the correspoinding point has coordinates with sum of digits $\\le25$. That means it can visit the point $(47,10)$, because $4+7+1+0\\le25$. But it cannot visit $(49, 49)$, because $4+9+4+9>25$.\n",
    "\n",
    "Here is the question. Being placed in the point $(1000, 1000)$, how many points can it visit?"
   ]
  },
  {
   "cell_type": "code",
   "execution_count": null,
   "metadata": {},
   "outputs": [],
   "source": []
  }
 ],
 "metadata": {
  "kernelspec": {
   "display_name": "Python 3.8",
   "language": "python",
   "name": "ipy38jupyter_kernel"
  },
  "language_info": {
   "codemirror_mode": {
    "name": "ipython",
    "version": 3
   },
   "file_extension": ".py",
   "mimetype": "text/x-python",
   "name": "python",
   "nbconvert_exporter": "python",
   "pygments_lexer": "ipython3",
   "version": "3.8.5"
  }
 },
 "nbformat": 4,
 "nbformat_minor": 4
}
