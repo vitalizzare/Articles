{
 "cells": [
  {
   "cell_type": "markdown",
   "metadata": {},
   "source": [
    "# О подмене функции `input` в Jupyter Notebook"
   ]
  },
  {
   "cell_type": "markdown",
   "metadata": {},
   "source": [
    "Проведем эксперимент с подменой встроенной функции  \n",
    "(о возможных мотивах такой замены см. комментарии к [этому твиту](https://twitter.com/vitalizzare/status/1342463345690087424), а также [размышления в конце этого ноутбука](#use_case))"
   ]
  },
  {
   "cell_type": "code",
   "execution_count": 1,
   "metadata": {},
   "outputs": [
    {
     "name": "stdout",
     "output_type": "stream",
     "text": [
      "Hello world!\n",
      "Say hello: Hello Jupyter!\n"
     ]
    },
    {
     "data": {
      "text/plain": [
       "'Hello Jupyter!'"
      ]
     },
     "execution_count": 1,
     "metadata": {},
     "output_type": "execute_result"
    }
   ],
   "source": [
    "import builtins\n",
    "builtins.input = lambda prompt, _input = input: print('Hello world!') or _input(prompt)\n",
    "input('Say hello: ')"
   ]
  },
  {
   "cell_type": "markdown",
   "metadata": {},
   "source": [
    "Посмотрим, как теперь ведет себя встроенная функция `input`"
   ]
  },
  {
   "cell_type": "code",
   "execution_count": 2,
   "metadata": {},
   "outputs": [
    {
     "name": "stdout",
     "output_type": "stream",
     "text": [
      "Say it again: Why there's no 'hello world' now?\n"
     ]
    },
    {
     "data": {
      "text/plain": [
       "\"Why there's no 'hello world' now?\""
      ]
     },
     "execution_count": 2,
     "metadata": {},
     "output_type": "execute_result"
    }
   ],
   "source": [
    "input('Say it again: ')"
   ]
  },
  {
   "cell_type": "markdown",
   "metadata": {},
   "source": [
    "Замена функции сработала в пределах одной ячейки. Почему?  \n",
    "Проверим, изменяется ли объект, на который указывет идентификатор `input`, при переходе из одной ячейки в другую."
   ]
  },
  {
   "cell_type": "code",
   "execution_count": 3,
   "metadata": {},
   "outputs": [],
   "source": [
    "first_cell = id(input)"
   ]
  },
  {
   "cell_type": "code",
   "execution_count": 4,
   "metadata": {},
   "outputs": [],
   "source": [
    "second_cell = id(input)"
   ]
  },
  {
   "cell_type": "code",
   "execution_count": 5,
   "metadata": {},
   "outputs": [
    {
     "data": {
      "text/plain": [
       "(140070900000768, 140070900011520, False)"
      ]
     },
     "execution_count": 5,
     "metadata": {},
     "output_type": "execute_result"
    }
   ],
   "source": [
    "first_cell, second_cell, first_cell == second_cell"
   ]
  },
  {
   "cell_type": "markdown",
   "metadata": {},
   "source": [
    "Да, он меняется. В двух разных ячейках мы видим два разных объекта `input`  \n",
    "Проверим, касается ли это других встроенных функций, например `len`"
   ]
  },
  {
   "cell_type": "code",
   "execution_count": 6,
   "metadata": {},
   "outputs": [],
   "source": [
    "first_cell = id(len)"
   ]
  },
  {
   "cell_type": "code",
   "execution_count": 7,
   "metadata": {},
   "outputs": [],
   "source": [
    "second_cell = id(len)"
   ]
  },
  {
   "cell_type": "code",
   "execution_count": 8,
   "metadata": {},
   "outputs": [
    {
     "data": {
      "text/plain": [
       "(140071000992080, 140071000992080, True)"
      ]
     },
     "execution_count": 8,
     "metadata": {},
     "output_type": "execute_result"
    }
   ],
   "source": [
    "first_cell, second_cell, first_cell == second_cell"
   ]
  },
  {
   "cell_type": "markdown",
   "metadata": {},
   "source": [
    "`len` при переходе из одной ячейки в другую - это один и тот же объект.  \n",
    "То же самое касается `print`, `hash`, `id`, `locals`, `globals`, `eval`, ...  \n",
    "Что не так с `input`?"
   ]
  },
  {
   "cell_type": "code",
   "execution_count": 9,
   "metadata": {},
   "outputs": [
    {
     "data": {
      "text/plain": [
       "'raw_input'"
      ]
     },
     "execution_count": 9,
     "metadata": {},
     "output_type": "execute_result"
    }
   ],
   "source": [
    "input.__name__"
   ]
  },
  {
   "cell_type": "code",
   "execution_count": 10,
   "metadata": {},
   "outputs": [
    {
     "data": {
      "text/plain": [
       "'ipykernel.kernelbase'"
      ]
     },
     "execution_count": 10,
     "metadata": {},
     "output_type": "execute_result"
    }
   ],
   "source": [
    "input.__module__"
   ]
  },
  {
   "cell_type": "markdown",
   "metadata": {},
   "source": [
    "Эта функция не из модуля `builtins`. Попробуем достать код."
   ]
  },
  {
   "cell_type": "code",
   "execution_count": 11,
   "metadata": {},
   "outputs": [
    {
     "name": "stdout",
     "output_type": "stream",
     "text": [
      "    def raw_input(self, prompt=''):\n",
      "        \"\"\"Forward raw_input to frontends\n",
      "\n",
      "        Raises\n",
      "        ------\n",
      "        StdinNotImplentedError if active frontend doesn't support stdin.\n",
      "        \"\"\"\n",
      "        if not self._allow_stdin:\n",
      "            raise StdinNotImplementedError(\n",
      "                \"raw_input was called, but this frontend does not support input requests.\"\n",
      "            )\n",
      "        return self._input_request(str(prompt),\n",
      "            self._parent_ident,\n",
      "            self._parent_header,\n",
      "            password=False,\n",
      "        )\n",
      "\n"
     ]
    }
   ],
   "source": [
    "import inspect\n",
    "print(inspect.getsource(input))"
   ]
  },
  {
   "cell_type": "markdown",
   "metadata": {},
   "source": [
    "Как видим, эта функция является методом какого-то класса. Более того, она представляет из себя обертку вокруг метода `self._input_request`, который, видимо, и является реальным `input`. Посмотрим, в каком классе лежит наша функция и в каком модуле находится этот класс."
   ]
  },
  {
   "cell_type": "code",
   "execution_count": 12,
   "metadata": {},
   "outputs": [
    {
     "data": {
      "text/plain": [
       "'IPythonKernel'"
      ]
     },
     "execution_count": 12,
     "metadata": {},
     "output_type": "execute_result"
    }
   ],
   "source": [
    "input.__self__.__class__.__name__"
   ]
  },
  {
   "cell_type": "code",
   "execution_count": 13,
   "metadata": {},
   "outputs": [
    {
     "data": {
      "text/plain": [
       "'ipykernel.ipkernel'"
      ]
     },
     "execution_count": 13,
     "metadata": {},
     "output_type": "execute_result"
    }
   ],
   "source": [
    "input.__self__.__class__.__module__"
   ]
  },
  {
   "cell_type": "markdown",
   "metadata": {},
   "source": [
    "Импортируем этот класс и попробуем подменить его метод `_input_request`"
   ]
  },
  {
   "cell_type": "code",
   "execution_count": 14,
   "metadata": {},
   "outputs": [],
   "source": [
    "from ipykernel.ipkernel import IPythonKernel\n",
    "\n",
    "ipython_input = IPythonKernel._input_request\n",
    "\n",
    "def my_input(*args, **kwargs):\n",
    "    print('Hello world!')\n",
    "    return ipython_input(*args, **kwargs)\n",
    "\n",
    "IPythonKernel._input_request = my_input"
   ]
  },
  {
   "cell_type": "markdown",
   "metadata": {},
   "source": [
    "Проверим, что получилось."
   ]
  },
  {
   "cell_type": "code",
   "execution_count": 15,
   "metadata": {},
   "outputs": [
    {
     "name": "stdout",
     "output_type": "stream",
     "text": [
      "Hello world!\n",
      "Hello Jupyter!\n"
     ]
    },
    {
     "data": {
      "text/plain": [
       "'Hello Jupyter!'"
      ]
     },
     "execution_count": 15,
     "metadata": {},
     "output_type": "execute_result"
    }
   ],
   "source": [
    "input()"
   ]
  },
  {
   "cell_type": "code",
   "execution_count": 16,
   "metadata": {},
   "outputs": [
    {
     "name": "stdout",
     "output_type": "stream",
     "text": [
      "Hello world!\n",
      "Say hello again: Very good! We have 'hello world' now!\n"
     ]
    },
    {
     "data": {
      "text/plain": [
       "\"Very good! We have 'hello world' now!\""
      ]
     },
     "execution_count": 16,
     "metadata": {},
     "output_type": "execute_result"
    }
   ],
   "source": [
    "input('Say hello again: ')"
   ]
  },
  {
   "cell_type": "code",
   "execution_count": 17,
   "metadata": {},
   "outputs": [
    {
     "name": "stdout",
     "output_type": "stream",
     "text": [
      "Hello world!\n",
      "Let's do it one more time: Yes, this is what we were looking for.\n"
     ]
    },
    {
     "data": {
      "text/plain": [
       "'Yes, this is what we were looking for.'"
      ]
     },
     "execution_count": 17,
     "metadata": {},
     "output_type": "execute_result"
    }
   ],
   "source": [
    "input(\"Let's do it one more time: \")"
   ]
  },
  {
   "cell_type": "markdown",
   "metadata": {},
   "source": [
    "## Ищем аутентичный `input` из модуля `builtins`\n",
    "Мы нашли то, что и нужно було подменять на самом деле. А где же метод `input` из модуля `builtins`? При запуске нам по умолчанию предосталяется функции `get_ipython`"
   ]
  },
  {
   "cell_type": "code",
   "execution_count": 18,
   "metadata": {
    "scrolled": true
   },
   "outputs": [
    {
     "name": "stdout",
     "output_type": "stream",
     "text": [
      "Help on method get_ipython in module IPython.core.interactiveshell:\n",
      "\n",
      "get_ipython() method of ipykernel.zmqshell.ZMQInteractiveShell instance\n",
      "    Return the currently running IPython instance.\n",
      "\n"
     ]
    }
   ],
   "source": [
    "help(get_ipython)"
   ]
  },
  {
   "cell_type": "markdown",
   "metadata": {},
   "source": [
    "Эта функция предоставляет доступ к работающему ядру. Посмотрим, нет ли внутри пространства его имен чего-то содержащего в своем названии 'input'"
   ]
  },
  {
   "cell_type": "code",
   "execution_count": 19,
   "metadata": {},
   "outputs": [],
   "source": [
    "instance = get_ipython()"
   ]
  },
  {
   "cell_type": "code",
   "execution_count": 20,
   "metadata": {},
   "outputs": [
    {
     "name": "stdout",
     "output_type": "stream",
     "text": [
      "_last_input_line\n",
      "auto_rewrite_input\n",
      "extract_input_lines\n",
      "input_splitter\n",
      "input_transformer_manager\n",
      "input_transformers_cleanup\n",
      "input_transformers_post\n",
      "raw_input_original\n",
      "set_next_input\n",
      "show_rewritten_input\n"
     ]
    }
   ],
   "source": [
    "for item in dir(instance):\n",
    "    if 'input' in item:\n",
    "        print(item)"
   ]
  },
  {
   "cell_type": "markdown",
   "metadata": {},
   "source": [
    "Проверим, что из себя представляет `raw_input_original`"
   ]
  },
  {
   "cell_type": "code",
   "execution_count": 21,
   "metadata": {},
   "outputs": [
    {
     "data": {
      "text/plain": [
       "builtin_function_or_method"
      ]
     },
     "execution_count": 21,
     "metadata": {},
     "output_type": "execute_result"
    }
   ],
   "source": [
    "type(instance.raw_input_original)"
   ]
  },
  {
   "cell_type": "code",
   "execution_count": 22,
   "metadata": {},
   "outputs": [
    {
     "data": {
      "text/plain": [
       "'input'"
      ]
     },
     "execution_count": 22,
     "metadata": {},
     "output_type": "execute_result"
    }
   ],
   "source": [
    "instance.raw_input_original.__name__"
   ]
  },
  {
   "cell_type": "code",
   "execution_count": 23,
   "metadata": {},
   "outputs": [
    {
     "data": {
      "text/plain": [
       "'builtins'"
      ]
     },
     "execution_count": 23,
     "metadata": {},
     "output_type": "execute_result"
    }
   ],
   "source": [
    "instance.raw_input_original.__module__"
   ]
  },
  {
   "cell_type": "code",
   "execution_count": 24,
   "metadata": {},
   "outputs": [
    {
     "name": "stdout",
     "output_type": "stream",
     "text": [
      "Help on built-in function input in module builtins:\n",
      "\n",
      "input(prompt=None, /)\n",
      "    Read a string from standard input.  The trailing newline is stripped.\n",
      "    \n",
      "    The prompt string, if given, is printed to standard output without a\n",
      "    trailing newline before reading input.\n",
      "    \n",
      "    If the user hits EOF (*nix: Ctrl-D, Windows: Ctrl-Z+Return), raise EOFError.\n",
      "    On *nix systems, readline is used if available.\n",
      "\n"
     ]
    }
   ],
   "source": [
    "help(instance.raw_input_original)"
   ]
  },
  {
   "cell_type": "markdown",
   "metadata": {},
   "source": [
    "Да, это и есть исходный `input` из модуля `builtins`, который похоже не используется. Но вернемся к той функции `input`, которую предоставлет Jupyter.  \n",
    "\n",
    "<a id=\"use_case\"></a>\n",
    "## Как мы можем использовать полученные знания?\n",
    "Вариант использования, о котром я давно думал - это контекстный менеджер для передачи в `input` одного и того же ответа."
   ]
  },
  {
   "cell_type": "code",
   "execution_count": 25,
   "metadata": {},
   "outputs": [],
   "source": [
    "from ipykernel.ipkernel import IPythonKernel\n",
    "from contextlib import contextmanager\n",
    "\n",
    "@contextmanager\n",
    "def repeat(answer: str):\n",
    "    try:\n",
    "        ipython_input = IPythonKernel._input_request\n",
    "        \n",
    "        def mock_input(*args, **kwargs):\n",
    "            return answer\n",
    "        \n",
    "        IPythonKernel._input_request = mock_input\n",
    "        yield\n",
    "    \n",
    "    finally:\n",
    "        IPythonKernel._input_request = ipython_input"
   ]
  },
  {
   "cell_type": "code",
   "execution_count": 26,
   "metadata": {},
   "outputs": [
    {
     "name": "stdout",
     "output_type": "stream",
     "text": [
      "yes\n",
      "yes\n",
      "yes\n"
     ]
    }
   ],
   "source": [
    "with repeat('yes'):\n",
    "    answer_1 = input('Continue?')\n",
    "    answer_2 = input('Continue?')\n",
    "    answer_3 = input('Continue?')\n",
    "    \n",
    "print(answer_1)\n",
    "print(answer_2)\n",
    "print(answer_3)"
   ]
  },
  {
   "cell_type": "markdown",
   "metadata": {},
   "source": [
    "Проверим, все ли правильно восстановилось (напомню, что ранее мы уже подменили `input` так, чтобы он нас приветствовал 'Hello world!')"
   ]
  },
  {
   "cell_type": "code",
   "execution_count": 27,
   "metadata": {},
   "outputs": [
    {
     "name": "stdout",
     "output_type": "stream",
     "text": [
      "Hello world!\n",
      "Try to say something: Good!\n"
     ]
    },
    {
     "data": {
      "text/plain": [
       "'Good!'"
      ]
     },
     "execution_count": 27,
     "metadata": {},
     "output_type": "execute_result"
    }
   ],
   "source": [
    "input('Try to say something: ')"
   ]
  },
  {
   "cell_type": "markdown",
   "metadata": {},
   "source": [
    "Да, это работает. Проверим контекстный менеджер на функции, имитирующей какой-то процесс."
   ]
  },
  {
   "cell_type": "code",
   "execution_count": 28,
   "metadata": {},
   "outputs": [],
   "source": [
    "def process():\n",
    "    print('Starting the process...')\n",
    "    print('Working...')\n",
    "    for _ in range(3):\n",
    "        print('Paused.')\n",
    "        answer = input('Continue? (Y)es|(N)o :')\n",
    "        if answer == 'Y':\n",
    "            print('Resume and continue the process.')\n",
    "        else:\n",
    "            print('Breaking the process.')\n",
    "            break\n",
    "    print('Done.')"
   ]
  },
  {
   "cell_type": "markdown",
   "metadata": {},
   "source": [
    "Вот как этот процесс выполняется без контекстного менеджера."
   ]
  },
  {
   "cell_type": "code",
   "execution_count": 30,
   "metadata": {},
   "outputs": [
    {
     "name": "stdout",
     "output_type": "stream",
     "text": [
      "Starting the process...\n",
      "Working...\n",
      "Paused.\n",
      "Hello world!\n",
      "Continue? (Y)es|(N)o :Y\n",
      "Resume and continue the process.\n",
      "Paused.\n",
      "Hello world!\n",
      "Continue? (Y)es|(N)o :Y\n",
      "Resume and continue the process.\n",
      "Paused.\n",
      "Hello world!\n",
      "Continue? (Y)es|(N)o :Y\n",
      "Resume and continue the process.\n",
      "Done.\n"
     ]
    }
   ],
   "source": [
    "process()"
   ]
  },
  {
   "cell_type": "markdown",
   "metadata": {},
   "source": [
    "Мы три раза вручную вводили 'Y'. А теперь запустим процесс с подменой функции ввода."
   ]
  },
  {
   "cell_type": "code",
   "execution_count": 31,
   "metadata": {},
   "outputs": [
    {
     "name": "stdout",
     "output_type": "stream",
     "text": [
      "Starting the process...\n",
      "Working...\n",
      "Paused.\n",
      "Resume and continue the process.\n",
      "Paused.\n",
      "Resume and continue the process.\n",
      "Paused.\n",
      "Resume and continue the process.\n",
      "Done.\n"
     ]
    }
   ],
   "source": [
    "with repeat('Y'):\n",
    "    process()"
   ]
  },
  {
   "cell_type": "markdown",
   "metadata": {},
   "source": [
    "Проверим, как работает `input` после выхода из контекстного менеджера"
   ]
  },
  {
   "cell_type": "code",
   "execution_count": 32,
   "metadata": {},
   "outputs": [
    {
     "name": "stdout",
     "output_type": "stream",
     "text": [
      "Hello world!\n",
      "Check the state of input: Okey\n"
     ]
    },
    {
     "data": {
      "text/plain": [
       "'Okey'"
      ]
     },
     "execution_count": 32,
     "metadata": {},
     "output_type": "execute_result"
    }
   ],
   "source": [
    "input('Check the state of input: ')"
   ]
  },
  {
   "cell_type": "markdown",
   "metadata": {},
   "source": [
    "Ну и вернем все, как было"
   ]
  },
  {
   "cell_type": "code",
   "execution_count": 36,
   "metadata": {},
   "outputs": [],
   "source": [
    "IPythonKernel._input_request = ipython_input"
   ]
  },
  {
   "cell_type": "code",
   "execution_count": 37,
   "metadata": {},
   "outputs": [
    {
     "name": "stdout",
     "output_type": "stream",
     "text": [
      "The End. Bye!\n"
     ]
    },
    {
     "data": {
      "text/plain": [
       "'Bye!'"
      ]
     },
     "execution_count": 37,
     "metadata": {},
     "output_type": "execute_result"
    }
   ],
   "source": [
    "input('The End. ')"
   ]
  }
 ],
 "metadata": {
  "kernelspec": {
   "display_name": "Python 3.8",
   "language": "python",
   "name": "ipy38jupyter_kernel"
  },
  "language_info": {
   "codemirror_mode": {
    "name": "ipython",
    "version": 3
   },
   "file_extension": ".py",
   "mimetype": "text/x-python",
   "name": "python",
   "nbconvert_exporter": "python",
   "pygments_lexer": "ipython3",
   "version": "3.8.5"
  }
 },
 "nbformat": 4,
 "nbformat_minor": 4
}
