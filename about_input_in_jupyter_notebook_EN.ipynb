{
 "cells": [
  {
   "cell_type": "markdown",
   "metadata": {},
   "source": [
    "# About overriding the `input` function in Jupyter Notebook"
   ]
  },
  {
   "cell_type": "markdown",
   "metadata": {},
   "source": [
    "Let's experiment with the substitution of the built-in function `input`\n",
    "(for possible reasons for this see [the comments on this tweet](https://twitter.com/vitalizzare/status/1342463345690087424), as well as [the reflections at the end of the article](#use_case))"
   ]
  },
  {
   "cell_type": "code",
   "execution_count": 1,
   "metadata": {},
   "outputs": [
    {
     "name": "stdout",
     "output_type": "stream",
     "text": [
      "Hello world!\n",
      "Say hello: Hello Jupyter!!!\n"
     ]
    },
    {
     "data": {
      "text/plain": [
       "'Hello Jupyter!!!'"
      ]
     },
     "execution_count": 1,
     "metadata": {},
     "output_type": "execute_result"
    }
   ],
   "source": [
    "import builtins\n",
    "builtins.input = lambda prompt, _input = input: print('Hello world!') or _input(prompt)\n",
    "input('Say hello: ')"
   ]
  },
  {
   "cell_type": "markdown",
   "metadata": {},
   "source": [
    "Let's see how the built-in `input` behaves now"
   ]
  },
  {
   "cell_type": "code",
   "execution_count": 2,
   "metadata": {},
   "outputs": [
    {
     "name": "stdout",
     "output_type": "stream",
     "text": [
      "Say it again: Why there's no 'hello world' now???\n"
     ]
    },
    {
     "data": {
      "text/plain": [
       "\"Why there's no 'hello world' now???\""
      ]
     },
     "execution_count": 2,
     "metadata": {},
     "output_type": "execute_result"
    }
   ],
   "source": [
    "input('Say it again: ')"
   ]
  },
  {
   "cell_type": "markdown",
   "metadata": {},
   "source": [
    "Function replacement worked within one cell. Why?\n",
    "Let's check if the object pointed to by the `input` identifier changes when moving from one cell to another."
   ]
  },
  {
   "cell_type": "code",
   "execution_count": 3,
   "metadata": {},
   "outputs": [],
   "source": [
    "first_cell = id(input)"
   ]
  },
  {
   "cell_type": "code",
   "execution_count": 4,
   "metadata": {},
   "outputs": [],
   "source": [
    "second_cell = id(input)"
   ]
  },
  {
   "cell_type": "code",
   "execution_count": 5,
   "metadata": {},
   "outputs": [
    {
     "data": {
      "text/plain": [
       "(139711962051520, 139711936650432, False)"
      ]
     },
     "execution_count": 5,
     "metadata": {},
     "output_type": "execute_result"
    }
   ],
   "source": [
    "first_cell, second_cell, first_cell == second_cell"
   ]
  },
  {
   "cell_type": "markdown",
   "metadata": {},
   "source": [
    "Well, it is really changing. In two different cells, we see two different `input` objects. Let's check if this is common to other built-in functions, for example `len`."
   ]
  },
  {
   "cell_type": "code",
   "execution_count": 6,
   "metadata": {},
   "outputs": [],
   "source": [
    "first_cell = id(len)"
   ]
  },
  {
   "cell_type": "code",
   "execution_count": 7,
   "metadata": {},
   "outputs": [],
   "source": [
    "second_cell = id(len)"
   ]
  },
  {
   "cell_type": "code",
   "execution_count": 8,
   "metadata": {},
   "outputs": [
    {
     "data": {
      "text/plain": [
       "(139712020859216, 139712020859216, True)"
      ]
     },
     "execution_count": 8,
     "metadata": {},
     "output_type": "execute_result"
    }
   ],
   "source": [
    "first_cell, second_cell, first_cell == second_cell"
   ]
  },
  {
   "cell_type": "markdown",
   "metadata": {},
   "source": [
    "`len` when moving from one cell to another is the same object.\n",
    "This is also true for `print`, ` hash`, `id`, ` locals`, `globals`, ` eval`, etc.\n",
    "What's wrong with `input`?"
   ]
  },
  {
   "cell_type": "code",
   "execution_count": 9,
   "metadata": {},
   "outputs": [
    {
     "data": {
      "text/plain": [
       "'raw_input'"
      ]
     },
     "execution_count": 9,
     "metadata": {},
     "output_type": "execute_result"
    }
   ],
   "source": [
    "input.__name__"
   ]
  },
  {
   "cell_type": "code",
   "execution_count": 10,
   "metadata": {},
   "outputs": [
    {
     "data": {
      "text/plain": [
       "'ipykernel.kernelbase'"
      ]
     },
     "execution_count": 10,
     "metadata": {},
     "output_type": "execute_result"
    }
   ],
   "source": [
    "input.__module__"
   ]
  },
  {
   "cell_type": "markdown",
   "metadata": {},
   "source": [
    "As we see this function is not from the `builtins` module. Let's try to get the code."
   ]
  },
  {
   "cell_type": "code",
   "execution_count": 11,
   "metadata": {},
   "outputs": [
    {
     "name": "stdout",
     "output_type": "stream",
     "text": [
      "    def raw_input(self, prompt=''):\n",
      "        \"\"\"Forward raw_input to frontends\n",
      "\n",
      "        Raises\n",
      "        ------\n",
      "        StdinNotImplentedError if active frontend doesn't support stdin.\n",
      "        \"\"\"\n",
      "        if not self._allow_stdin:\n",
      "            raise StdinNotImplementedError(\n",
      "                \"raw_input was called, but this frontend does not support input requests.\"\n",
      "            )\n",
      "        return self._input_request(str(prompt),\n",
      "            self._parent_ident,\n",
      "            self._parent_header,\n",
      "            password=False,\n",
      "        )\n",
      "\n"
     ]
    }
   ],
   "source": [
    "import inspect\n",
    "print(inspect.getsource(input))"
   ]
  },
  {
   "cell_type": "markdown",
   "metadata": {},
   "source": [
    "As you can see, this function is a method of some class. Moreover, it is a wrapper around the `self._input_request` method, which, apparently, is the real `input`. Let's see in which class our method is declared and in which module this class is located."
   ]
  },
  {
   "cell_type": "code",
   "execution_count": 12,
   "metadata": {},
   "outputs": [
    {
     "data": {
      "text/plain": [
       "'IPythonKernel'"
      ]
     },
     "execution_count": 12,
     "metadata": {},
     "output_type": "execute_result"
    }
   ],
   "source": [
    "input.__self__.__class__.__name__"
   ]
  },
  {
   "cell_type": "code",
   "execution_count": 13,
   "metadata": {},
   "outputs": [
    {
     "data": {
      "text/plain": [
       "'ipykernel.ipkernel'"
      ]
     },
     "execution_count": 13,
     "metadata": {},
     "output_type": "execute_result"
    }
   ],
   "source": [
    "input.__self__.__class__.__module__"
   ]
  },
  {
   "cell_type": "markdown",
   "metadata": {},
   "source": [
    "Let's import this class and try to replace its `_input_request` method"
   ]
  },
  {
   "cell_type": "code",
   "execution_count": 14,
   "metadata": {},
   "outputs": [],
   "source": [
    "from ipykernel.ipkernel import IPythonKernel\n",
    "\n",
    "ipython_input = IPythonKernel._input_request\n",
    "\n",
    "def my_input(*args, **kwargs):\n",
    "    print('Hello world!')\n",
    "    return ipython_input(*args, **kwargs)\n",
    "\n",
    "IPythonKernel._input_request = my_input"
   ]
  },
  {
   "cell_type": "markdown",
   "metadata": {},
   "source": [
    "Let's check what do we have now."
   ]
  },
  {
   "cell_type": "code",
   "execution_count": 15,
   "metadata": {},
   "outputs": [
    {
     "name": "stdout",
     "output_type": "stream",
     "text": [
      "Hello world!\n",
      "Well, hello there!\n"
     ]
    },
    {
     "data": {
      "text/plain": [
       "'Well, hello there!'"
      ]
     },
     "execution_count": 15,
     "metadata": {},
     "output_type": "execute_result"
    }
   ],
   "source": [
    "input()"
   ]
  },
  {
   "cell_type": "code",
   "execution_count": 16,
   "metadata": {},
   "outputs": [
    {
     "name": "stdout",
     "output_type": "stream",
     "text": [
      "Hello world!\n",
      "Say hello again: Good, we have 'hello world' again!\n"
     ]
    },
    {
     "data": {
      "text/plain": [
       "\"Good, we have 'hello world' again!\""
      ]
     },
     "execution_count": 16,
     "metadata": {},
     "output_type": "execute_result"
    }
   ],
   "source": [
    "input('Say hello again: ')"
   ]
  },
  {
   "cell_type": "code",
   "execution_count": 17,
   "metadata": {},
   "outputs": [
    {
     "name": "stdout",
     "output_type": "stream",
     "text": [
      "Hello world!\n",
      "Let's do it one more time: And again!\n"
     ]
    },
    {
     "data": {
      "text/plain": [
       "'And again!'"
      ]
     },
     "execution_count": 17,
     "metadata": {},
     "output_type": "execute_result"
    }
   ],
   "source": [
    "input(\"Let's do it one more time: \")"
   ]
  },
  {
   "cell_type": "markdown",
   "metadata": {},
   "source": [
    "# Looking for authentic `input` from builtins module\n",
    "\n",
    "Well, we have found what we really need to replace. But where is the `input` method from the `builtins` module? \n",
    "When opening a Jupyter Notebook, we are automatically provided with the `get_ipython` function. What does this function do?"
   ]
  },
  {
   "cell_type": "code",
   "execution_count": 18,
   "metadata": {
    "scrolled": true
   },
   "outputs": [
    {
     "name": "stdout",
     "output_type": "stream",
     "text": [
      "Help on method get_ipython in module IPython.core.interactiveshell:\n",
      "\n",
      "get_ipython() method of ipykernel.zmqshell.ZMQInteractiveShell instance\n",
      "    Return the currently running IPython instance.\n",
      "\n"
     ]
    }
   ],
   "source": [
    "help(get_ipython)"
   ]
  },
  {
   "cell_type": "markdown",
   "metadata": {},
   "source": [
    "This function provides access to a running kernel. Let's see if there is something inside of the kernal namespace containing in its name the word 'input'."
   ]
  },
  {
   "cell_type": "code",
   "execution_count": 19,
   "metadata": {},
   "outputs": [],
   "source": [
    "instance = get_ipython()"
   ]
  },
  {
   "cell_type": "code",
   "execution_count": 20,
   "metadata": {},
   "outputs": [
    {
     "name": "stdout",
     "output_type": "stream",
     "text": [
      "_last_input_line\n",
      "auto_rewrite_input\n",
      "extract_input_lines\n",
      "input_splitter\n",
      "input_transformer_manager\n",
      "input_transformers_cleanup\n",
      "input_transformers_post\n",
      "raw_input_original\n",
      "set_next_input\n",
      "show_rewritten_input\n"
     ]
    }
   ],
   "source": [
    "for item in dir(instance):\n",
    "    if 'input' in item:\n",
    "        print(item)"
   ]
  },
  {
   "cell_type": "markdown",
   "metadata": {},
   "source": [
    "Let's check what is `raw_input_original`"
   ]
  },
  {
   "cell_type": "code",
   "execution_count": 21,
   "metadata": {},
   "outputs": [
    {
     "data": {
      "text/plain": [
       "builtin_function_or_method"
      ]
     },
     "execution_count": 21,
     "metadata": {},
     "output_type": "execute_result"
    }
   ],
   "source": [
    "type(instance.raw_input_original)"
   ]
  },
  {
   "cell_type": "code",
   "execution_count": 22,
   "metadata": {},
   "outputs": [
    {
     "data": {
      "text/plain": [
       "'input'"
      ]
     },
     "execution_count": 22,
     "metadata": {},
     "output_type": "execute_result"
    }
   ],
   "source": [
    "instance.raw_input_original.__name__"
   ]
  },
  {
   "cell_type": "code",
   "execution_count": 23,
   "metadata": {},
   "outputs": [
    {
     "data": {
      "text/plain": [
       "'builtins'"
      ]
     },
     "execution_count": 23,
     "metadata": {},
     "output_type": "execute_result"
    }
   ],
   "source": [
    "instance.raw_input_original.__module__"
   ]
  },
  {
   "cell_type": "code",
   "execution_count": 24,
   "metadata": {},
   "outputs": [
    {
     "name": "stdout",
     "output_type": "stream",
     "text": [
      "Help on built-in function input in module builtins:\n",
      "\n",
      "input(prompt=None, /)\n",
      "    Read a string from standard input.  The trailing newline is stripped.\n",
      "    \n",
      "    The prompt string, if given, is printed to standard output without a\n",
      "    trailing newline before reading input.\n",
      "    \n",
      "    If the user hits EOF (*nix: Ctrl-D, Windows: Ctrl-Z+Return), raise EOFError.\n",
      "    On *nix systems, readline is used if available.\n",
      "\n"
     ]
    }
   ],
   "source": [
    "help(instance.raw_input_original)"
   ]
  },
  {
   "cell_type": "markdown",
   "metadata": {},
   "source": [
    "Yes, this is original `input` from the `builtins` module. And it doesn't seem to be used. But back to the `input` function that Jupyter provides.\n",
    "\n",
    "<a id=\"use_case\"></a>\n",
    "## How can we use the acquired knowledge\n",
    "\n",
    "A use case I've been thinking about for a some time is a context manager for passing the same response to `input`."
   ]
  },
  {
   "cell_type": "code",
   "execution_count": 25,
   "metadata": {},
   "outputs": [],
   "source": [
    "from ipykernel.ipkernel import IPythonKernel\n",
    "from contextlib import contextmanager\n",
    "\n",
    "@contextmanager\n",
    "def repeat(answer: str):\n",
    "    try:\n",
    "        ipython_input = IPythonKernel._input_request\n",
    "        \n",
    "        def mock_input(*args, **kwargs):\n",
    "            return answer\n",
    "        \n",
    "        IPythonKernel._input_request = mock_input\n",
    "        yield\n",
    "    \n",
    "    finally:\n",
    "        IPythonKernel._input_request = ipython_input"
   ]
  },
  {
   "cell_type": "code",
   "execution_count": 26,
   "metadata": {},
   "outputs": [
    {
     "name": "stdout",
     "output_type": "stream",
     "text": [
      "yes\n",
      "yes\n",
      "yes\n"
     ]
    }
   ],
   "source": [
    "with repeat('yes'):\n",
    "    answer_1 = input('Continue?')\n",
    "    answer_2 = input('Continue?')\n",
    "    answer_3 = input('Continue?')\n",
    "    \n",
    "print(answer_1)\n",
    "print(answer_2)\n",
    "print(answer_3)"
   ]
  },
  {
   "cell_type": "markdown",
   "metadata": {},
   "source": [
    "Let's check if everything was restored correctly (remember that earlier we have already changed `input` so that it greets us with <mark>Hello world!</mark>)"
   ]
  },
  {
   "cell_type": "code",
   "execution_count": 27,
   "metadata": {},
   "outputs": [
    {
     "name": "stdout",
     "output_type": "stream",
     "text": [
      "Hello world!\n",
      "Try to say something: Well, everything seems to be allright.\n"
     ]
    },
    {
     "data": {
      "text/plain": [
       "'Well, everything seems to be allright.'"
      ]
     },
     "execution_count": 27,
     "metadata": {},
     "output_type": "execute_result"
    }
   ],
   "source": [
    "input('Try to say something: ')"
   ]
  },
  {
   "cell_type": "markdown",
   "metadata": {},
   "source": [
    "It works. What it looks like if we apply a context manager to a process with input."
   ]
  },
  {
   "cell_type": "code",
   "execution_count": 28,
   "metadata": {},
   "outputs": [],
   "source": [
    "def process():\n",
    "    print('Starting the process...')\n",
    "    print('Working...')\n",
    "    for _ in range(3):\n",
    "        print('Paused.')\n",
    "        answer = input('Continue? (Y)es|(N)o :')\n",
    "        if answer == 'Y':\n",
    "            print('Resume and continue the process.')\n",
    "        else:\n",
    "            print('Breaking the process.')\n",
    "            break\n",
    "    print('Done.')"
   ]
  },
  {
   "cell_type": "markdown",
   "metadata": {},
   "source": [
    "This is how the process works *without* a context manager."
   ]
  },
  {
   "cell_type": "code",
   "execution_count": 29,
   "metadata": {},
   "outputs": [
    {
     "name": "stdout",
     "output_type": "stream",
     "text": [
      "Starting the process...\n",
      "Working...\n",
      "Paused.\n",
      "Hello world!\n",
      "Continue? (Y)es|(N)o :Y\n",
      "Resume and continue the process.\n",
      "Paused.\n",
      "Hello world!\n",
      "Continue? (Y)es|(N)o :Y\n",
      "Resume and continue the process.\n",
      "Paused.\n",
      "Hello world!\n",
      "Continue? (Y)es|(N)o :Y\n",
      "Resume and continue the process.\n",
      "Done.\n"
     ]
    }
   ],
   "source": [
    "process()"
   ]
  },
  {
   "cell_type": "markdown",
   "metadata": {},
   "source": [
    "So, we manually entered 'Y' three times. Now let's start the process with the substitution of the input function."
   ]
  },
  {
   "cell_type": "code",
   "execution_count": 30,
   "metadata": {},
   "outputs": [
    {
     "name": "stdout",
     "output_type": "stream",
     "text": [
      "Starting the process...\n",
      "Working...\n",
      "Paused.\n",
      "Resume and continue the process.\n",
      "Paused.\n",
      "Resume and continue the process.\n",
      "Paused.\n",
      "Resume and continue the process.\n",
      "Done.\n"
     ]
    }
   ],
   "source": [
    "with repeat('Y'):\n",
    "    process()"
   ]
  },
  {
   "cell_type": "markdown",
   "metadata": {},
   "source": [
    "Let's check how `input` works after exiting the context manager"
   ]
  },
  {
   "cell_type": "code",
   "execution_count": 31,
   "metadata": {},
   "outputs": [
    {
     "name": "stdout",
     "output_type": "stream",
     "text": [
      "Hello world!\n",
      "Check the state of input: Okey\n"
     ]
    },
    {
     "data": {
      "text/plain": [
       "'Okey'"
      ]
     },
     "execution_count": 31,
     "metadata": {},
     "output_type": "execute_result"
    }
   ],
   "source": [
    "input('Check the state of input: ')"
   ]
  },
  {
   "cell_type": "markdown",
   "metadata": {},
   "source": [
    "Finally, let's clean up after ourselves!"
   ]
  },
  {
   "cell_type": "code",
   "execution_count": 32,
   "metadata": {},
   "outputs": [],
   "source": [
    "IPythonKernel._input_request = ipython_input"
   ]
  },
  {
   "cell_type": "code",
   "execution_count": 33,
   "metadata": {},
   "outputs": [
    {
     "name": "stdout",
     "output_type": "stream",
     "text": [
      "The End. Bye!\n"
     ]
    },
    {
     "data": {
      "text/plain": [
       "'Bye!'"
      ]
     },
     "execution_count": 33,
     "metadata": {},
     "output_type": "execute_result"
    }
   ],
   "source": [
    "input('The End. ')"
   ]
  }
 ],
 "metadata": {
  "kernelspec": {
   "display_name": "Python 3.8",
   "language": "python",
   "name": "ipy38jupyter_kernel"
  },
  "language_info": {
   "codemirror_mode": {
    "name": "ipython",
    "version": 3
   },
   "file_extension": ".py",
   "mimetype": "text/x-python",
   "name": "python",
   "nbconvert_exporter": "python",
   "pygments_lexer": "ipython3",
   "version": "3.8.5"
  }
 },
 "nbformat": 4,
 "nbformat_minor": 4
}
